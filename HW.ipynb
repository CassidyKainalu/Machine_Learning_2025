{
 "cells": [
  {
   "cell_type": "code",
   "execution_count": null,
   "id": "68d5a62f",
   "metadata": {},
   "outputs": [],
   "source": [
    "fwiefbof"
   ]
  }
 ],
 "metadata": {
  "language_info": {
   "name": "python"
  }
 },
 "nbformat": 4,
 "nbformat_minor": 5
}
