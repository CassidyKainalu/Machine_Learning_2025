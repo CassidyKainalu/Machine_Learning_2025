{
 "cells": [
  {
   "cell_type": "markdown",
   "id": "4b796217",
   "metadata": {},
   "source": [
    "## First Homework\n",
    "\n",
    "Name: Cassidy Tao:\n",
    "\n",
    "- Question 1: Use a programming language of your choice to save today's date to a variable.\n",
    "Then, include the date in the text below the code block."
   ]
  },
  {
   "cell_type": "code",
   "execution_count": 2,
   "id": "68d5a62f",
   "metadata": {},
   "outputs": [
    {
     "name": "stdout",
     "output_type": "stream",
     "text": [
      "Todays date is:  2025-10-08\n"
     ]
    }
   ],
   "source": [
    "from datetime import date\n",
    "print('Todays date is: ',date.today())"
   ]
  }
 ],
 "metadata": {
  "kernelspec": {
   "display_name": "Python 3",
   "language": "python",
   "name": "python3"
  },
  "language_info": {
   "codemirror_mode": {
    "name": "ipython",
    "version": 3
   },
   "file_extension": ".py",
   "mimetype": "text/x-python",
   "name": "python",
   "nbconvert_exporter": "python",
   "pygments_lexer": "ipython3",
   "version": "3.13.0"
  }
 },
 "nbformat": 4,
 "nbformat_minor": 5
}
